{
 "cells": [
  {
   "cell_type": "code",
   "execution_count": 2,
   "metadata": {},
   "outputs": [],
   "source": [
    "import pandas as pd\n",
    "import numpy as np\n",
    "from  keras.models import Sequential\n",
    "from keras.layers import Dense, Activation\n",
    "import keras\n",
    "from keras.models import load_model\n",
    "import pickle\n",
    "import os\n",
    "import time\n",
    "from sklearn.utils import shuffle"
   ]
  },
  {
   "cell_type": "code",
   "execution_count": 3,
   "metadata": {
    "collapsed": true
   },
   "outputs": [],
   "source": [
    "dirs = os.listdir('./aclImdb/train')"
   ]
  },
  {
   "cell_type": "code",
   "execution_count": 4,
   "metadata": {},
   "outputs": [],
   "source": [
    "text = []\n",
    "labels = []\n",
    "for i in dirs:\n",
    "    if i == 'neg':\n",
    "        for j in os.listdir('./aclImdb/train/neg'):\n",
    "            with open('./aclImdb/train/neg/'+j, 'rb') as f:\n",
    "                text.append(f.read())\n",
    "                labels.append([1,0])\n",
    "    if i == 'pos':\n",
    "        for j in os.listdir('./aclImdb/train/pos'):\n",
    "            with open('./aclImdb/train/pos/'+j, 'rb') as f:\n",
    "                text.append(f.read())\n",
    "                labels.append([0,1])"
   ]
  },
  {
   "cell_type": "code",
   "execution_count": 7,
   "metadata": {},
   "outputs": [],
   "source": [
    "my_set = set()\n",
    "for x in text:\n",
    "    for i in str(x).split(' '):\n",
    "        my_set.add(i)"
   ]
  },
  {
   "cell_type": "code",
   "execution_count": 8,
   "metadata": {},
   "outputs": [
    {
     "data": {
      "text/plain": [
       "295309"
      ]
     },
     "execution_count": 8,
     "metadata": {},
     "output_type": "execute_result"
    }
   ],
   "source": [
    "len(my_set)\n"
   ]
  },
  {
   "cell_type": "code",
   "execution_count": 9,
   "metadata": {
    "collapsed": true
   },
   "outputs": [],
   "source": [
    "#key-value pairs for dictionary\n",
    "word_dict = {}\n",
    "for index, word in enumerate(my_set):\n",
    "    word_dict[word] = index"
   ]
  },
  {
   "cell_type": "code",
   "execution_count": 10,
   "metadata": {},
   "outputs": [],
   "source": [
    "with open('word_dict.pkl', 'wb') as f:\n",
    "    pickle.dump(word_dict, f)"
   ]
  },
  {
   "cell_type": "code",
   "execution_count": 13,
   "metadata": {},
   "outputs": [],
   "source": [
    "train_vec = []\n",
    "for sentence in text[:1000]:\n",
    "    word_vec = np.zeros(len(my_set))\n",
    "    for word in str(sentence).split(' '):\n",
    "        if not word == '':\n",
    "            word_vec[word_dict[word]] = 1\n",
    "    train_vec.append(word_vec)\n",
    "train_vec = np.array(train_vec)"
   ]
  },
  {
   "cell_type": "code",
   "execution_count": 14,
   "metadata": {
    "collapsed": true
   },
   "outputs": [],
   "source": [
    "def encode_percep(text, word_dict):\n",
    "    for sentence in text:\n",
    "        word_vec = np.zeros(len(my_set))\n",
    "        for word in str(sentence).split(' '):\n",
    "            if not word == '':\n",
    "                word_vec[word_dict[word]] = 1\n",
    "        train_vec.append(word_vec)\n",
    "        return np.array(train_vec)"
   ]
  },
  {
   "cell_type": "code",
   "execution_count": 23,
   "metadata": {},
   "outputs": [],
   "source": [
    "reviews, labels = shuffle(train_vec, labels[:1000])"
   ]
  },
  {
   "cell_type": "code",
   "execution_count": 17,
   "metadata": {},
   "outputs": [],
   "source": [
    "model = Sequential([\n",
    "    Dense(120, input_shape=(len(my_set),)),\n",
    "    Activation('relu'),\n",
    "    Dense(240),\n",
    "    Activation('relu'),\n",
    "    Dense(2),\n",
    "    Activation('softmax')\n",
    "])"
   ]
  },
  {
   "cell_type": "code",
   "execution_count": 18,
   "metadata": {
    "collapsed": true
   },
   "outputs": [],
   "source": [
    "model.compile(optimizer='rmsprop',\n",
    "              loss='categorical_crossentropy',\n",
    "              metrics=['accuracy'])"
   ]
  },
  {
   "cell_type": "code",
   "execution_count": 25,
   "metadata": {},
   "outputs": [
    {
     "name": "stdout",
     "output_type": "stream",
     "text": [
      "Epoch 1/10\n",
      "1000/1000 [==============================] - 28s 28ms/step - loss: 1.2034e-07 - acc: 1.0000\n",
      "Epoch 2/10\n",
      "1000/1000 [==============================] - 27s 27ms/step - loss: 1.2010e-07 - acc: 1.0000\n",
      "Epoch 3/10\n",
      "1000/1000 [==============================] - 26s 26ms/step - loss: 1.1986e-07 - acc: 1.0000\n",
      "Epoch 4/10\n",
      "1000/1000 [==============================] - 27s 27ms/step - loss: 1.1975e-07 - acc: 1.0000\n",
      "Epoch 5/10\n",
      "1000/1000 [==============================] - 27s 27ms/step - loss: 1.1969e-07 - acc: 1.0000\n",
      "Epoch 6/10\n",
      "1000/1000 [==============================] - 27s 27ms/step - loss: 1.1957e-07 - acc: 1.0000\n",
      "Epoch 7/10\n",
      "1000/1000 [==============================] - 27s 27ms/step - loss: 1.1957e-07 - acc: 1.0000\n",
      "Epoch 8/10\n",
      "1000/1000 [==============================] - 27s 27ms/step - loss: 1.1951e-07 - acc: 1.0000\n",
      "Epoch 9/10\n",
      "1000/1000 [==============================] - 27s 27ms/step - loss: 1.1939e-07 - acc: 1.0000\n",
      "Epoch 10/10\n",
      "1000/1000 [==============================] - 27s 27ms/step - loss: 1.1933e-07 - acc: 1.0000\n"
     ]
    },
    {
     "data": {
      "text/plain": [
       "<keras.callbacks.History at 0x1c5e3e48>"
      ]
     },
     "execution_count": 25,
     "metadata": {},
     "output_type": "execute_result"
    }
   ],
   "source": [
    "model.fit(reviews, np.array(labels), epochs=10, batch_size=32)"
   ]
  },
  {
   "cell_type": "code",
   "execution_count": 19,
   "metadata": {},
   "outputs": [
    {
     "name": "stdout",
     "output_type": "stream",
     "text": [
      "1000/1000 [==============================] - 0s 487us/step\n"
     ]
    }
   ],
   "source": [
    "score = model.evaluate(train_vec, one_hot_labels[:1000], batch_size=32)"
   ]
  },
  {
   "cell_type": "code",
   "execution_count": 20,
   "metadata": {},
   "outputs": [
    {
     "data": {
      "text/plain": [
       "[0.3323592805862427, 0.864]"
      ]
     },
     "execution_count": 20,
     "metadata": {},
     "output_type": "execute_result"
    }
   ],
   "source": [
    "score"
   ]
  },
  {
   "cell_type": "code",
   "execution_count": 26,
   "metadata": {
    "collapsed": true
   },
   "outputs": [],
   "source": [
    "model.save('percept_1.h5')"
   ]
  },
  {
   "cell_type": "code",
   "execution_count": 21,
   "metadata": {},
   "outputs": [
    {
     "data": {
      "text/plain": [
       "array([[1.0000000e+00, 3.2202116e-11],\n",
       "       [1.0000000e+00, 2.3910087e-38],\n",
       "       [1.0000000e+00, 2.7037752e-13],\n",
       "       ...,\n",
       "       [1.0000000e+00, 7.0378564e-11],\n",
       "       [1.0000000e+00, 2.6962412e-09],\n",
       "       [1.0000000e+00, 1.8600043e-15]], dtype=float32)"
      ]
     },
     "execution_count": 21,
     "metadata": {},
     "output_type": "execute_result"
    }
   ],
   "source": [
    "model.predict(train_vec)"
   ]
  },
  {
   "cell_type": "code",
   "execution_count": null,
   "metadata": {
    "collapsed": true
   },
   "outputs": [],
   "source": []
  }
 ],
 "metadata": {
  "kernelspec": {
   "display_name": "Python 3",
   "language": "python",
   "name": "python3"
  },
  "language_info": {
   "codemirror_mode": {
    "name": "ipython",
    "version": 3
   },
   "file_extension": ".py",
   "mimetype": "text/x-python",
   "name": "python",
   "nbconvert_exporter": "python",
   "pygments_lexer": "ipython3",
   "version": "3.6.3"
  }
 },
 "nbformat": 4,
 "nbformat_minor": 2
}
