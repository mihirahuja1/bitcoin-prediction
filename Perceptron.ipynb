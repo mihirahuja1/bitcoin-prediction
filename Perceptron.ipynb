{
 "cells": [
  {
   "cell_type": "code",
   "execution_count": 1,
   "metadata": {},
   "outputs": [
    {
     "name": "stderr",
     "output_type": "stream",
     "text": [
      "Using TensorFlow backend.\n"
     ]
    }
   ],
   "source": [
    "import pandas as pd\n",
    "import numpy as np\n",
    "from  keras.models import Sequential\n",
    "from keras.layers import Dense, Activation\n",
    "import keras\n",
    "from keras.models import load_model\n",
    "import pickle\n",
    "import os\n",
    "import time\n",
    "from sklearn.utils import shuffle"
   ]
  },
  {
   "cell_type": "code",
   "execution_count": 2,
   "metadata": {},
   "outputs": [],
   "source": [
    "dirs = os.listdir('./aclImdb/train')"
   ]
  },
  {
   "cell_type": "code",
   "execution_count": 3,
   "metadata": {},
   "outputs": [],
   "source": [
    "text = []\n",
    "labels = []\n",
    "for i in dirs:\n",
    "    if i == 'neg':\n",
    "        for j in os.listdir('./aclImdb/train/neg'):\n",
    "            with open('./aclImdb/train/neg/'+j, 'rb') as f:\n",
    "                text.append(f.read())\n",
    "                labels.append([1,0])\n",
    "    if i == 'pos':\n",
    "        for j in os.listdir('./aclImdb/train/pos'):\n",
    "            with open('./aclImdb/train/pos/'+j, 'rb') as f:\n",
    "                text.append(f.read())\n",
    "                labels.append([0,1])"
   ]
  },
  {
   "cell_type": "code",
   "execution_count": 4,
   "metadata": {},
   "outputs": [],
   "source": [
    "my_set = set()\n",
    "for x in text:\n",
    "    for i in str(x).split(' '):\n",
    "        my_set.add(i)"
   ]
  },
  {
   "cell_type": "code",
   "execution_count": 5,
   "metadata": {},
   "outputs": [
    {
     "data": {
      "text/plain": [
       "295309"
      ]
     },
     "execution_count": 5,
     "metadata": {},
     "output_type": "execute_result"
    }
   ],
   "source": [
    "len(my_set)"
   ]
  },
  {
   "cell_type": "code",
   "execution_count": 6,
   "metadata": {},
   "outputs": [],
   "source": [
    "#key-value pairs for dictionary\n",
    "word_dict = {}\n",
    "for index, word in enumerate(my_set):\n",
    "    word_dict[word] = index"
   ]
  },
  {
   "cell_type": "code",
   "execution_count": 7,
   "metadata": {},
   "outputs": [],
   "source": [
    "with open('word_dict.pkl', 'wb') as f:\n",
    "    pickle.dump(word_dict, f)"
   ]
  },
  {
   "cell_type": "code",
   "execution_count": 8,
   "metadata": {},
   "outputs": [],
   "source": [
    "# train_vec = []\n",
    "# for sentence in text[:1000]:\n",
    "#     word_vec = np.zeros(len(my_set))\n",
    "#     for word in str(sentence).split(' '):\n",
    "#         if not word == '':\n",
    "#             word_vec[word_dict[word]] = 1\n",
    "#     train_vec.append(word_vec)\n",
    "# train_vec = np.array(train_vec)"
   ]
  },
  {
   "cell_type": "code",
   "execution_count": 9,
   "metadata": {},
   "outputs": [],
   "source": [
    "def encode_percep(text, word_dict):\n",
    "    train_vec = []\n",
    "    for sentence in text:\n",
    "        word_vec = np.zeros(len(my_set))\n",
    "        for word in str(sentence).split(' '):\n",
    "            if not word == '':\n",
    "                word_vec[word_dict[word]] = 1\n",
    "        train_vec.append(word_vec)\n",
    "    return np.array(train_vec)"
   ]
  },
  {
   "cell_type": "code",
   "execution_count": 10,
   "metadata": {},
   "outputs": [],
   "source": [
    "text, labels = shuffle(text, labels)"
   ]
  },
  {
   "cell_type": "code",
   "execution_count": 11,
   "metadata": {},
   "outputs": [],
   "source": [
    "reviews1 = encode_percep(text[:10000], word_dict)"
   ]
  },
  {
   "cell_type": "code",
   "execution_count": 12,
   "metadata": {},
   "outputs": [],
   "source": [
    "labels = np.array(labels)"
   ]
  },
  {
   "cell_type": "code",
   "execution_count": 13,
   "metadata": {},
   "outputs": [],
   "source": [
    "model = Sequential([\n",
    "    Dense(120, input_shape=(len(my_set),)),\n",
    "    Activation('relu'),\n",
    "    Dense(240),\n",
    "    Activation('relu'),\n",
    "    Dense(240),\n",
    "    Activation('relu'),\n",
    "    Dense(120),\n",
    "    Activation('relu'),\n",
    "    Dense(2),\n",
    "    Activation('softmax')\n",
    "])"
   ]
  },
  {
   "cell_type": "code",
   "execution_count": 14,
   "metadata": {},
   "outputs": [
    {
     "name": "stdout",
     "output_type": "stream",
     "text": [
      "WARNING:tensorflow:From /Users/khushmeetsingh/anaconda/lib/python3.6/site-packages/keras/backend/tensorflow_backend.py:2755: calling reduce_sum (from tensorflow.python.ops.math_ops) with keep_dims is deprecated and will be removed in a future version.\n",
      "Instructions for updating:\n",
      "keep_dims is deprecated, use keepdims instead\n",
      "WARNING:tensorflow:From /Users/khushmeetsingh/anaconda/lib/python3.6/site-packages/keras/backend/tensorflow_backend.py:1290: calling reduce_mean (from tensorflow.python.ops.math_ops) with keep_dims is deprecated and will be removed in a future version.\n",
      "Instructions for updating:\n",
      "keep_dims is deprecated, use keepdims instead\n"
     ]
    }
   ],
   "source": [
    "model.compile(optimizer='rmsprop',\n",
    "              loss='categorical_crossentropy',\n",
    "              metrics=['accuracy'])"
   ]
  },
  {
   "cell_type": "code",
   "execution_count": 15,
   "metadata": {},
   "outputs": [
    {
     "name": "stdout",
     "output_type": "stream",
     "text": [
      "Epoch 1/10\n",
      "10000/10000 [==============================] - 238s - loss: 0.4040 - acc: 0.8190   \n",
      "Epoch 2/10\n",
      "10000/10000 [==============================] - 251s - loss: 0.1003 - acc: 0.9670   \n",
      "Epoch 3/10\n",
      "10000/10000 [==============================] - 252s - loss: 0.0295 - acc: 0.9909   \n",
      "Epoch 4/10\n",
      "10000/10000 [==============================] - 254s - loss: 0.0154 - acc: 0.9962   \n",
      "Epoch 5/10\n",
      "10000/10000 [==============================] - 252s - loss: 0.0123 - acc: 0.9987   \n",
      "Epoch 6/10\n",
      "10000/10000 [==============================] - 256s - loss: 0.0047 - acc: 0.9995   \n",
      "Epoch 7/10\n",
      "10000/10000 [==============================] - 254s - loss: 0.0289 - acc: 0.9977   \n",
      "Epoch 8/10\n",
      "10000/10000 [==============================] - 251s - loss: 1.3565e-07 - acc: 1.0000   \n",
      "Epoch 9/10\n",
      "10000/10000 [==============================] - 248s - loss: 1.1964e-07 - acc: 1.0000   \n",
      "Epoch 10/10\n",
      "10000/10000 [==============================] - 249s - loss: 1.1921e-07 - acc: 1.0000   \n"
     ]
    },
    {
     "data": {
      "text/plain": [
       "<keras.callbacks.History at 0x124018f28>"
      ]
     },
     "execution_count": 15,
     "metadata": {},
     "output_type": "execute_result"
    }
   ],
   "source": [
    "model.fit(reviews1, labels[:10000], epochs=10, batch_size=32)"
   ]
  },
  {
   "cell_type": "code",
   "execution_count": 16,
   "metadata": {},
   "outputs": [],
   "source": [
    "del reviews1\n",
    "model.save('percept_1.h5')"
   ]
  },
  {
   "cell_type": "code",
   "execution_count": 17,
   "metadata": {},
   "outputs": [],
   "source": [
    "model = load_model('percept_1.h5')"
   ]
  },
  {
   "cell_type": "code",
   "execution_count": 18,
   "metadata": {},
   "outputs": [],
   "source": [
    "reviews2 = encode_percep(text[10000:20000], word_dict)"
   ]
  },
  {
   "cell_type": "code",
   "execution_count": 19,
   "metadata": {},
   "outputs": [
    {
     "name": "stdout",
     "output_type": "stream",
     "text": [
      "Epoch 1/7\n",
      "10000/10000 [==============================] - 227s - loss: 0.8181 - acc: 0.8597   \n",
      "Epoch 2/7\n",
      "10000/10000 [==============================] - 233s - loss: 0.1577 - acc: 0.9465   \n",
      "Epoch 3/7\n",
      "10000/10000 [==============================] - 241s - loss: 0.0525 - acc: 0.9851   \n",
      "Epoch 4/7\n",
      "10000/10000 [==============================] - 239s - loss: 0.0205 - acc: 0.9960   \n",
      "Epoch 5/7\n",
      "10000/10000 [==============================] - 230s - loss: 0.0071 - acc: 0.9993   \n",
      "Epoch 6/7\n",
      "10000/10000 [==============================] - 235s - loss: 0.0050 - acc: 0.9996   \n",
      "Epoch 7/7\n",
      "10000/10000 [==============================] - 225s - loss: 0.0032 - acc: 0.9998   \n"
     ]
    },
    {
     "data": {
      "text/plain": [
       "<keras.callbacks.History at 0x1130c7710>"
      ]
     },
     "execution_count": 19,
     "metadata": {},
     "output_type": "execute_result"
    }
   ],
   "source": [
    "model.fit(reviews2, labels[10000:20000], epochs=7, batch_size=32)"
   ]
  },
  {
   "cell_type": "code",
   "execution_count": 20,
   "metadata": {},
   "outputs": [],
   "source": [
    "del reviews2\n",
    "model.save('percept_1.h5')\n",
    "model = load_model('percept_1.h5')"
   ]
  },
  {
   "cell_type": "code",
   "execution_count": 21,
   "metadata": {},
   "outputs": [],
   "source": [
    "reviews3 = encode_percep(text[20000:], word_dict)"
   ]
  },
  {
   "cell_type": "code",
   "execution_count": 23,
   "metadata": {},
   "outputs": [
    {
     "name": "stdout",
     "output_type": "stream",
     "text": [
      "Epoch 1/4\n",
      "5000/5000 [==============================] - 113s - loss: 2.0414 - acc: 0.8576   \n",
      "Epoch 2/4\n",
      "5000/5000 [==============================] - 111s - loss: 0.3289 - acc: 0.8916   \n",
      "Epoch 3/4\n",
      "5000/5000 [==============================] - 115s - loss: 0.1036 - acc: 0.9672   \n",
      "Epoch 4/4\n",
      "5000/5000 [==============================] - 118s - loss: 0.0261 - acc: 0.9936   \n"
     ]
    },
    {
     "data": {
      "text/plain": [
       "<keras.callbacks.History at 0x1074a86a0>"
      ]
     },
     "execution_count": 23,
     "metadata": {},
     "output_type": "execute_result"
    }
   ],
   "source": [
    "model.fit(reviews3, labels[20000:], epochs=4, batch_size=32)"
   ]
  },
  {
   "cell_type": "code",
   "execution_count": 24,
   "metadata": {},
   "outputs": [],
   "source": [
    "model.save('percept_1.h5')"
   ]
  },
  {
   "cell_type": "code",
   "execution_count": null,
   "metadata": {},
   "outputs": [],
   "source": []
  }
 ],
 "metadata": {
  "kernelspec": {
   "display_name": "Python 3",
   "language": "python",
   "name": "python3"
  },
  "language_info": {
   "codemirror_mode": {
    "name": "ipython",
    "version": 3
   },
   "file_extension": ".py",
   "mimetype": "text/x-python",
   "name": "python",
   "nbconvert_exporter": "python",
   "pygments_lexer": "ipython3",
   "version": "3.6.4"
  }
 },
 "nbformat": 4,
 "nbformat_minor": 2
}
